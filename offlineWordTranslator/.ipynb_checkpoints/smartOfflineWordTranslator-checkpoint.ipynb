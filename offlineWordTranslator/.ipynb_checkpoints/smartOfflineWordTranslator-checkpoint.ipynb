{
 "cells": [
  {
   "cell_type": "code",
   "execution_count": 3,
   "metadata": {},
   "outputs": [],
   "source": [
    "from offlineWordTranslator import *\n",
    "import json"
   ]
  },
  {
   "cell_type": "code",
   "execution_count": 1,
   "metadata": {
    "collapsed": true
   },
   "outputs": [],
   "source": [
    "class SmartOfflineWordTranslator:\n",
    "    def __init__(self):\n",
    "        self.__pathToCustomDictionary = os.path.join(os.path.dirname(os.path.abspath(__file__)), \n",
    "                                        \"dictionaries\", \n",
    "                                        \"custom\", \n",
    "                                        \"rusEngDictionary.json\")\n",
    "        rusToEngDict = None\n",
    "        with open(self.__pathToCustomDictionary, \"r\") as fp:\n",
    "            rusToEngDict = json.load(fp)\n",
    "        __customTranslator = OfflineWordTranslator(rusToEngDict)\n",
    "        \n",
    "        pathToDictionary = os.path.join(os.path.dirname(os.path.abspath(__file__)), \n",
    "                                        \"dictionaries\", \n",
    "                                        \"Wiktionary Russian-English\", \n",
    "                                        \"Wiktionary Russian-English\")\n",
    "        self.__wiktionaryTranslator = OfflineWordTranslatorForWiktionary(Dictionary(pathToDictionary))\n",
    "        \n",
    "        pathToDictionary = os.path.join(os.path.dirname(os.path.abspath(__file__)), \n",
    "                                        \"dictionaries\", \n",
    "                                        \"stardict-quick_rus-eng-2.4.2\", \n",
    "                                        \"quick_russian-english\")\n",
    "        self.__starDictQuickTranslator = OfflineWordTranslatorForStarDictQuick(Dictionary(pathToDictionary))\n",
    "    \n",
    "    def translate(self, word):\n",
    "        translation = self.__customTranslator.translate(word)\n",
    "        if translation is not None:\n",
    "            return translation\n",
    "        \n",
    "        translation = self.__wiktionaryTranslator.translate(word)\n",
    "        if translation is not None:\n",
    "            return translation\n",
    "        \n",
    "        translation = self.__starDictQuickTranslator.translate(word)\n",
    "        if translation is not None:\n",
    "            return translation\n",
    "    \n",
    "    def addNewWordTranslation(self, word, translation):\n",
    "        customDict = self.__customTranslator.getDictionary()\n",
    "        if word in customDict:\n",
    "            customDict[word].append(translation)\n",
    "        else:\n",
    "            customDict[word] = [translation]\n",
    "        \n",
    "    __pathToCustomDictionary = None\n",
    "    __customTranslator = None\n",
    "    __wiktionaryTranslator = None\n",
    "    __starDictQuickTranslator = None"
   ]
  },
  {
   "cell_type": "code",
   "execution_count": null,
   "metadata": {
    "collapsed": true
   },
   "outputs": [],
   "source": []
  }
 ],
 "metadata": {
  "kernelspec": {
   "display_name": "keras",
   "language": "python",
   "name": "keras"
  },
  "language_info": {
   "codemirror_mode": {
    "name": "ipython",
    "version": 3
   },
   "file_extension": ".py",
   "mimetype": "text/x-python",
   "name": "python",
   "nbconvert_exporter": "python",
   "pygments_lexer": "ipython3",
   "version": "3.5.4"
  }
 },
 "nbformat": 4,
 "nbformat_minor": 2
}
